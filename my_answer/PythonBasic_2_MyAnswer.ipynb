{
  "nbformat": 4,
  "nbformat_minor": 0,
  "metadata": {
    "colab": {
      "provenance": [],
      "include_colab_link": true
    },
    "kernelspec": {
      "name": "python3",
      "display_name": "Python 3"
    },
    "language_info": {
      "name": "python"
    }
  },
  "cells": [
    {
      "cell_type": "markdown",
      "metadata": {
        "id": "view-in-github",
        "colab_type": "text"
      },
      "source": [
        "<a href=\"https://colab.research.google.com/github/skyoffire8823/Prmn2023re/blob/main/my_answer/PythonBasic_2_MyAnswer.ipynb\" target=\"_parent\"><img src=\"https://colab.research.google.com/assets/colab-badge.svg\" alt=\"Open In Colab\"/></a>"
      ]
    },
    {
      "cell_type": "markdown",
      "source": [
        "# 第2章 課題"
      ],
      "metadata": {
        "id": "C44SsXDACtHu"
      }
    },
    {
      "cell_type": "markdown",
      "source": [
        "## 課題1"
      ],
      "metadata": {
        "id": "OnkezWHRCwr9"
      }
    },
    {
      "cell_type": "markdown",
      "source": [
        "for文を使って、以下のように出力してください"
      ],
      "metadata": {
        "id": "q32rK-cECzCl"
      }
    },
    {
      "cell_type": "markdown",
      "source": [
        "![oSFeQoX.png](https://i.imgur.com/oSFeQoX.png)"
      ],
      "metadata": {
        "id": "FxMcxznVB6cI"
      }
    },
    {
      "cell_type": "code",
      "source": [
        "#入力用\n",
        "for num in range(1,8,2):\n",
        "  blank=[]\n",
        "  mark=[]\n",
        "  a=4-(num+1)/2\n",
        "  for i in range(int(a)):\n",
        "    blank.append(\" \")\n",
        "  \n",
        "  for j in range(num):\n",
        "    mark.append(\"*\")\n",
        "\n",
        "  suit=blank+mark+blank\n",
        "  T=tuple(suit)\n",
        "  \n",
        "  for t in T:\n",
        "    print(t, end='')\n",
        "  print()"
      ],
      "metadata": {
        "colab": {
          "base_uri": "https://localhost:8080/"
        },
        "id": "csnd7441gngO",
        "outputId": "1712749c-4953-4b97-caa9-3cdd87547ec2"
      },
      "execution_count": 44,
      "outputs": [
        {
          "output_type": "stream",
          "name": "stdout",
          "text": [
            "   *   \n",
            "  ***  \n",
            " ***** \n",
            "*******\n"
          ]
        }
      ]
    },
    {
      "cell_type": "markdown",
      "source": [
        "## 課題2"
      ],
      "metadata": {
        "id": "gIn-UqGTCagu"
      }
    },
    {
      "cell_type": "markdown",
      "source": [
        "課題1の場合を`n=4`として、nを自分で設定して出力できるようにしてください"
      ],
      "metadata": {
        "id": "ltdiEdqYDFy8"
      }
    },
    {
      "cell_type": "markdown",
      "source": [
        "＜例＞ n=5の場合  \n",
        "![o5NjugQ.png](https://imgur.com/o5NjugQ.png)"
      ],
      "metadata": {
        "id": "hw0FM8BRDHz1"
      }
    },
    {
      "cell_type": "code",
      "source": [
        "# 入力用\n",
        "n=int(input())\n",
        "for num in range(1,n*2,2):\n",
        "  blank=[]\n",
        "  mark=[]\n",
        "  a=n-(num+1)/2\n",
        "  for i in range(int(a)):\n",
        "    blank.append(\" \")\n",
        "  \n",
        "  for j in range(num):\n",
        "    mark.append(\"*\")\n",
        "\n",
        "  suit=blank+mark+blank\n",
        "  T=tuple(suit)\n",
        "\n",
        "  for t in T:\n",
        "    print(t, end='')\n",
        "\n",
        "  print()"
      ],
      "metadata": {
        "id": "upd76Tv-FrIB",
        "colab": {
          "base_uri": "https://localhost:8080/"
        },
        "outputId": "2bc0e31e-4fc2-42a4-b6d8-c0a4fb726bfb"
      },
      "execution_count": 41,
      "outputs": [
        {
          "output_type": "stream",
          "name": "stdout",
          "text": [
            "5\n",
            "    *    \n",
            "   ***   \n",
            "  *****  \n",
            " ******* \n",
            "*********\n"
          ]
        }
      ]
    },
    {
      "cell_type": "markdown",
      "source": [
        "## 課題3"
      ],
      "metadata": {
        "id": "tLMJvwBDE7wT"
      }
    },
    {
      "cell_type": "markdown",
      "source": [
        "for文を使って、以下のように出力してください"
      ],
      "metadata": {
        "id": "vZNvWsG7E99q"
      }
    },
    {
      "cell_type": "markdown",
      "source": [
        "![oSirXec.png](https://imgur.com/oSirXec.png)"
      ],
      "metadata": {
        "id": "ijOV-ilXGDNR"
      }
    },
    {
      "cell_type": "code",
      "source": [
        "# 入力用\n",
        "def PRINT(X,Y):\n",
        "  blank=[]\n",
        "  mark=[]\n",
        "  for i in range(int(X)):\n",
        "    blank.append(\" \")\n",
        "  \n",
        "  for j in range(Y):\n",
        "    mark.append(\"*\")\n",
        "\n",
        "  suit=blank+mark+blank\n",
        "  T=tuple(suit)\n",
        "  \n",
        "  for t in T:\n",
        "    print(t, end='')\n",
        "  print()\n",
        "\n",
        "\n",
        "for num in range(1,8,2):\n",
        "  a=4-(num+1)/2\n",
        "  PRINT(a,num)\n",
        "\n",
        "for NUM in range(5,0,-2):\n",
        "  b=4-(NUM+1)/2\n",
        "  PRINT(b,NUM)"
      ],
      "metadata": {
        "id": "Q5Ob9uZpGIE3",
        "colab": {
          "base_uri": "https://localhost:8080/"
        },
        "outputId": "ac57af2f-c93c-4291-ca01-75d8d24f1cf4"
      },
      "execution_count": 51,
      "outputs": [
        {
          "output_type": "stream",
          "name": "stdout",
          "text": [
            "   *   \n",
            "  ***  \n",
            " ***** \n",
            "*******\n",
            " ***** \n",
            "  ***  \n",
            "   *   \n"
          ]
        }
      ]
    },
    {
      "cell_type": "markdown",
      "source": [
        "## 課題4"
      ],
      "metadata": {
        "id": "Oh7whOPkGQ3I"
      }
    },
    {
      "cell_type": "markdown",
      "source": [
        "課題3の場合を`n=4`として、nを自分で設定して出力できるようにしてください"
      ],
      "metadata": {
        "id": "PnvT8MQbGS03"
      }
    },
    {
      "cell_type": "markdown",
      "source": [
        "＜例＞ n=5の場合  \n",
        "\n",
        "![my4J17V.png](https://i.imgur.com/my4J17V.png)"
      ],
      "metadata": {
        "id": "ZujkAbVMGzhn"
      }
    },
    {
      "cell_type": "code",
      "source": [
        "# 入力用\n",
        "def PRINT(X,Y):\n",
        "  blank=[]\n",
        "  mark=[]\n",
        "  for i in range(int(X)):\n",
        "    blank.append(\" \")\n",
        "  \n",
        "  for j in range(Y):\n",
        "    mark.append(\"*\")\n",
        "\n",
        "  suit=blank+mark+blank\n",
        "  T=tuple(suit)\n",
        "  \n",
        "  for t in T:\n",
        "    print(t, end='')\n",
        "  print()\n",
        "\n",
        "n=int(input())\n",
        "for num in range(1,n*2,2):\n",
        "  a=n-(num+1)/2\n",
        "  PRINT(a,num)\n",
        "\n",
        "for NUM in range((n-1)*2-1,0,-2):\n",
        "  b=n-(NUM+1)/2\n",
        "  PRINT(b,NUM)"
      ],
      "metadata": {
        "id": "hCFNQ7mWG99u",
        "colab": {
          "base_uri": "https://localhost:8080/"
        },
        "outputId": "77fcf2d8-06d2-426b-d889-c27066d6567a"
      },
      "execution_count": 53,
      "outputs": [
        {
          "output_type": "stream",
          "name": "stdout",
          "text": [
            "5\n",
            "    *    \n",
            "   ***   \n",
            "  *****  \n",
            " ******* \n",
            "*********\n",
            " ******* \n",
            "  *****  \n",
            "   ***   \n",
            "    *    \n"
          ]
        }
      ]
    },
    {
      "cell_type": "markdown",
      "source": [
        "## 課題5"
      ],
      "metadata": {
        "id": "R2MvOK4wHJlK"
      }
    },
    {
      "cell_type": "markdown",
      "source": [
        "for文を使って、以下のように出力してください"
      ],
      "metadata": {
        "id": "ddMIUoaKHcwd"
      }
    },
    {
      "cell_type": "markdown",
      "source": [
        "![vDUi5eM.png](https://imgur.com/vDUi5eM.png)"
      ],
      "metadata": {
        "id": "CD1cVUlWHLVO"
      }
    },
    {
      "cell_type": "code",
      "source": [
        "# 入力用\n",
        "def PRINT(X,Y):\n",
        "  blank=[]\n",
        "  blank2=[]\n",
        "  mark=[]\n",
        "  mark2=[]\n",
        "  for i in range(int(X)):\n",
        "    blank.append(\" \")\n",
        "  \n",
        "  for I in range(int(X-1)):\n",
        "    blank2.append(\" \")\n",
        "\n",
        "  for j in range(Y):\n",
        "    mark.append(\"*\")\n",
        "    \n",
        "  for J in range(Y-1):\n",
        "    mark2.append(\"*\")\n",
        "  \n",
        "  if X == 0:\n",
        "    suit=blank+mark+blank+blank2+mark2\n",
        "  else:\n",
        "    suit=blank+mark+blank+blank2+mark\n",
        "  T=tuple(suit)\n",
        "  \n",
        "  for t in T:\n",
        "    print(t, end='')\n",
        "  print()\n",
        "\n",
        "\n",
        "for num in range(1,8,2):\n",
        "  a=4-(num+1)/2\n",
        "  PRINT(a,num)\n",
        "\n",
        "for NUM in range(5,0,-2):\n",
        "  b=4-(NUM+1)/2\n",
        "  PRINT(b,NUM)"
      ],
      "metadata": {
        "id": "1pDkfJpUHd93",
        "colab": {
          "base_uri": "https://localhost:8080/"
        },
        "outputId": "b485bb8e-bc44-4562-933b-a4030aa6f040"
      },
      "execution_count": 61,
      "outputs": [
        {
          "output_type": "stream",
          "name": "stdout",
          "text": [
            "   *     *\n",
            "  ***   ***\n",
            " ***** *****\n",
            "*************\n",
            " ***** *****\n",
            "  ***   ***\n",
            "   *     *\n"
          ]
        }
      ]
    },
    {
      "cell_type": "markdown",
      "source": [
        "## 課題6"
      ],
      "metadata": {
        "id": "oubbafOBHerl"
      }
    },
    {
      "cell_type": "markdown",
      "source": [
        "課題5の場合を`n=4`として、nを自分で設定して出力できるようにしてください"
      ],
      "metadata": {
        "id": "7SzgFdC-HzG9"
      }
    },
    {
      "cell_type": "markdown",
      "source": [
        "＜例＞ n=5の場合  \n",
        "\n",
        "![udkVlYG.png](https://imgur.com/udkVlYG.png)"
      ],
      "metadata": {
        "id": "LY8g9PVPH2OW"
      }
    },
    {
      "cell_type": "code",
      "source": [
        "# 入力用\n",
        "def PRINT(X,Y):\n",
        "  blank=[]\n",
        "  blank2=[]\n",
        "  mark=[]\n",
        "  mark2=[]\n",
        "  for i in range(int(X)):\n",
        "    blank.append(\" \")\n",
        "  \n",
        "  for I in range(int(X-1)):\n",
        "    blank2.append(\" \")\n",
        "\n",
        "  for j in range(Y):\n",
        "    mark.append(\"*\")\n",
        "    \n",
        "  for J in range(Y-1):\n",
        "    mark2.append(\"*\")\n",
        "  \n",
        "  if X == 0:\n",
        "    suit=blank+mark+blank+blank2+mark2\n",
        "  else:\n",
        "    suit=blank+mark+blank+blank2+mark\n",
        "  T=tuple(suit)\n",
        "  \n",
        "  for t in T:\n",
        "    print(t, end='')\n",
        "  print()\n",
        "\n",
        "n=int(input())\n",
        "for num in range(1,n*2,2):\n",
        "  a=n-(num+1)/2\n",
        "  PRINT(a,num)\n",
        "\n",
        "for NUM in range((n-1)*2-1,0,-2):\n",
        "  b=n-(NUM+1)/2\n",
        "  PRINT(b,NUM)"
      ],
      "metadata": {
        "id": "XZOK5ulbH-tu",
        "colab": {
          "base_uri": "https://localhost:8080/"
        },
        "outputId": "86fecbce-3f92-4cfb-9a54-eb6a30f0dba4"
      },
      "execution_count": 63,
      "outputs": [
        {
          "output_type": "stream",
          "name": "stdout",
          "text": [
            "5\n",
            "    *       *\n",
            "   ***     ***\n",
            "  *****   *****\n",
            " ******* *******\n",
            "*****************\n",
            " ******* *******\n",
            "  *****   *****\n",
            "   ***     ***\n",
            "    *       *\n"
          ]
        }
      ]
    },
    {
      "cell_type": "markdown",
      "source": [
        "## 課題7"
      ],
      "metadata": {
        "id": "ouqTUmPQIKGF"
      }
    },
    {
      "cell_type": "markdown",
      "source": [
        "for文を使って、以下のように出力してください"
      ],
      "metadata": {
        "id": "WHSxdOHuIMRM"
      }
    },
    {
      "cell_type": "markdown",
      "source": [
        "![IuP0M16.png](https://imgur.com/IuP0M16.png)"
      ],
      "metadata": {
        "id": "-G--WFTkIM8s"
      }
    },
    {
      "cell_type": "code",
      "source": [
        "#入力用\n",
        "def PRINT(X,Y):\n",
        "  blank=[]\n",
        "  blank2=[]\n",
        "  mark=[]\n",
        "  mark2=[]\n",
        "  for i in range(int(X)):\n",
        "    blank.append(\" \")\n",
        "  \n",
        "  for I in range(int(X-1)):\n",
        "    blank2.append(\" \")\n",
        "\n",
        "  for j in range(Y):\n",
        "    mark.append(\"*\")\n",
        "    \n",
        "  for J in range(Y-1):\n",
        "    mark2.append(\"*\")\n",
        "  \n",
        "  if X == 0:\n",
        "    suit=blank+mark+blank+blank2+mark2\n",
        "  else:\n",
        "    suit=blank+mark+blank+blank2+mark\n",
        "  T=tuple(suit)\n",
        "  \n",
        "  for t in T:\n",
        "    print(t, end='')\n",
        "  print()\n",
        "\n",
        "\n",
        "for num in range(1,8,2):\n",
        "  a=4-(num+1)/2\n",
        "  PRINT(a,num)\n",
        "\n",
        "for NUM in range(5,0,-2):\n",
        "  b=4-(NUM+1)/2\n",
        "  PRINT(b,NUM)\n",
        "\n",
        "for num2 in range(3,8,2):\n",
        "  c=4-(num2+1)/2\n",
        "  PRINT(c,num2)\n",
        "\n",
        "for NUM2 in range(5,0,-2):\n",
        "  d=4-(NUM2+1)/2\n",
        "  PRINT(d,NUM2)"
      ],
      "metadata": {
        "colab": {
          "base_uri": "https://localhost:8080/"
        },
        "id": "yZucZ7MQvtiC",
        "outputId": "5aa2153e-95e5-4d67-b245-377c9ab08909"
      },
      "execution_count": 67,
      "outputs": [
        {
          "output_type": "stream",
          "name": "stdout",
          "text": [
            "   *     *\n",
            "  ***   ***\n",
            " ***** *****\n",
            "*************\n",
            " ***** *****\n",
            "  ***   ***\n",
            "   *     *\n",
            "  ***   ***\n",
            " ***** *****\n",
            "*************\n",
            " ***** *****\n",
            "  ***   ***\n",
            "   *     *\n"
          ]
        }
      ]
    },
    {
      "cell_type": "markdown",
      "source": [
        "## 課題8"
      ],
      "metadata": {
        "id": "31u0ExX2IjWj"
      }
    },
    {
      "cell_type": "markdown",
      "source": [
        "課題7の場合を`n=4`として、nを自分で設定して出力できるようにしてください"
      ],
      "metadata": {
        "id": "zeOvmKarInpz"
      }
    },
    {
      "cell_type": "markdown",
      "source": [
        "＜例＞ n=5の場合  \n",
        "\n",
        "![AlTnu1k.png](https://imgur.com/AlTnu1k.png)"
      ],
      "metadata": {
        "id": "2uLR5sbKIov2"
      }
    },
    {
      "cell_type": "code",
      "source": [
        "# 入力用\n",
        "def PRINT(X,Y):\n",
        "  blank=[]\n",
        "  blank2=[]\n",
        "  mark=[]\n",
        "  mark2=[]\n",
        "  for i in range(int(X)):\n",
        "    blank.append(\" \")\n",
        "  \n",
        "  for I in range(int(X-1)):\n",
        "    blank2.append(\" \")\n",
        "\n",
        "  for j in range(Y):\n",
        "    mark.append(\"*\")\n",
        "    \n",
        "  for J in range(Y-1):\n",
        "    mark2.append(\"*\")\n",
        "  \n",
        "  if X == 0:\n",
        "    suit=blank+mark+blank+blank2+mark2\n",
        "  else:\n",
        "    suit=blank+mark+blank+blank2+mark\n",
        "  T=tuple(suit)\n",
        "  \n",
        "  for t in T:\n",
        "    print(t, end='')\n",
        "  print()\n",
        "\n",
        "n=int(input())\n",
        "for num in range(1,n*2,2):\n",
        "  a=n-(num+1)/2\n",
        "  PRINT(a,num)\n",
        "\n",
        "for NUM in range((n-1)*2-1,0,-2):\n",
        "  b=n-(NUM+1)/2\n",
        "  PRINT(b,NUM)\n",
        "\n",
        "for num2 in range(3,n*2,2):\n",
        "  c=n-(num2+1)/2\n",
        "  PRINT(c,num2)\n",
        "\n",
        "for NUM2 in range((n-1)*2-1,0,-2):\n",
        "  d=n-(NUM2+1)/2\n",
        "  PRINT(d,NUM2)"
      ],
      "metadata": {
        "id": "TXJaIVbYI_Cd",
        "colab": {
          "base_uri": "https://localhost:8080/"
        },
        "outputId": "ef2a9657-c454-4854-f5fb-25f2dd2b1e6b"
      },
      "execution_count": 69,
      "outputs": [
        {
          "output_type": "stream",
          "name": "stdout",
          "text": [
            "6\n",
            "     *         *\n",
            "    ***       ***\n",
            "   *****     *****\n",
            "  *******   *******\n",
            " ********* *********\n",
            "*********************\n",
            " ********* *********\n",
            "  *******   *******\n",
            "   *****     *****\n",
            "    ***       ***\n",
            "     *         *\n",
            "    ***       ***\n",
            "   *****     *****\n",
            "  *******   *******\n",
            " ********* *********\n",
            "*********************\n",
            " ********* *********\n",
            "  *******   *******\n",
            "   *****     *****\n",
            "    ***       ***\n",
            "     *         *\n"
          ]
        }
      ]
    }
  ]
}