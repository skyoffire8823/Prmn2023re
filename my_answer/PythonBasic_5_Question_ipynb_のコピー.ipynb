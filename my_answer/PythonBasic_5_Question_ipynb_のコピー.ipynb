{
  "nbformat": 4,
  "nbformat_minor": 0,
  "metadata": {
    "colab": {
      "provenance": [],
      "include_colab_link": true
    },
    "kernelspec": {
      "name": "python3",
      "display_name": "Python 3"
    },
    "language_info": {
      "name": "python"
    }
  },
  "cells": [
    {
      "cell_type": "markdown",
      "metadata": {
        "id": "view-in-github",
        "colab_type": "text"
      },
      "source": [
        "<a href=\"https://colab.research.google.com/github/skyoffire8823/Prmn2023re/blob/main/my_answer/PythonBasic_5_Question_ipynb_%E3%81%AE%E3%82%B3%E3%83%94%E3%83%BC.ipynb\" target=\"_parent\"><img src=\"https://colab.research.google.com/assets/colab-badge.svg\" alt=\"Open In Colab\"/></a>"
      ]
    },
    {
      "cell_type": "markdown",
      "source": [
        "<a href=\"https://colab.research.google.com/github/kiryu-3/Prmn2023/blob/main/Python/Python_Basic/question/PythonBasic_5_Question.ipynb\" target=\"_parent\"><img src=\"https://colab.research.google.com/assets/colab-badge.svg\" alt=\"Open In Colab\"/></a>"
      ],
      "metadata": {
        "id": "TA5kKi-LY1xg"
      }
    },
    {
      "cell_type": "markdown",
      "source": [
        "# 第5章 課題"
      ],
      "metadata": {
        "id": "r-kcfL2yEU8b"
      }
    },
    {
      "cell_type": "markdown",
      "source": [
        "## 課題1"
      ],
      "metadata": {
        "id": "RWo2DmBs_2c4"
      }
    },
    {
      "cell_type": "markdown",
      "source": [
        "1桁の自然数を乱数を使って5つ格納した2つのリストを作ってください。  \n",
        "この時、一つのリスト内で5つの値が重複しないようにしてください\n",
        "\n",
        "その後、そのリストから重複する要素を削除した新しいリストと、   \n",
        "共通の要素を持つ新しいリストを出力してください"
      ],
      "metadata": {
        "id": "QRNvqmTgE8Ww"
      }
    },
    {
      "cell_type": "markdown",
      "source": [
        "＜実行結果例＞\n",
        "``` py  \n",
        "1つ目のリスト：[1, 2, 3, 4, 5]  \n",
        "2つ目のリスト：[1, 3, 5, 7, 9]  \n",
        "重複削除リスト：[1, 2, 3, 4, 5, 7, 9] \n",
        "共通要素リスト：[1, 3, 5]\n",
        "```"
      ],
      "metadata": {
        "id": "Goi4CqGxFOpn"
      }
    },
    {
      "cell_type": "markdown",
      "source": [
        "＜ヒント＞ set関数を用いても用いなくても答えは出せます。"
      ],
      "metadata": {
        "id": "iEOFeFjqkkyS"
      }
    },
    {
      "cell_type": "code",
      "source": [
        "# 入力用\n",
        "import random\n",
        "list1=[]\n",
        "list2=[]\n",
        "list3=[]\n",
        "list4=[]\n",
        "num_list=[1,2,3,4,5,6,7,8,9]\n",
        "random.shuffle(num_list)\n",
        "list1=num_list[0:5]\n",
        "random.shuffle(num_list)\n",
        "list2=num_list[0:5]\n",
        "\n",
        "list3=list1.copy()\n",
        "for i in range(5):\n",
        "  if list2[i] in list3:\n",
        "    continue\n",
        "  \n",
        "  elif list2[i] not in list3:\n",
        "    x=num_list[i]\n",
        "    list3.append(x)\n",
        "\n",
        "for j in list2:\n",
        "  if j in list1:\n",
        "    list4.append(j)\n",
        "\n",
        "  elif j not in list1:\n",
        "    continue\n",
        "\n",
        "print(f'list1:{list1}')\n",
        "print(f'list2:{list2}')\n",
        "print(f'重複削除リスト:{list3}')\n",
        "print(f'共通リスト:{list4}')"
      ],
      "metadata": {
        "id": "pQdhCOALMGWj",
        "outputId": "cfb3992e-d0d2-446a-e0d1-4f081fddd7d2",
        "colab": {
          "base_uri": "https://localhost:8080/"
        }
      },
      "execution_count": null,
      "outputs": [
        {
          "output_type": "stream",
          "name": "stdout",
          "text": [
            "list1:[5, 6, 7, 1, 8]\n",
            "list2:[2, 4, 1, 3, 6]\n",
            "重複削除リスト:[5, 6, 7, 1, 8, 2, 4, 3]\n",
            "共通リスト:[1, 6]\n"
          ]
        }
      ]
    },
    {
      "cell_type": "markdown",
      "source": [
        "## 課題2"
      ],
      "metadata": {
        "id": "-qZw_n3X8xrW"
      }
    },
    {
      "cell_type": "markdown",
      "source": [
        "共通のキーを持つ辞書を要素とするリストから、特定のキーの値のリストを取得してみます。"
      ],
      "metadata": {
        "id": "vxwATeobQf_U"
      }
    },
    {
      "cell_type": "markdown",
      "source": [
        "以下のリストから、都道府県コード・都道府県・県庁所在地それぞれのリストを作成してください\n",
        "\n",
        "キーが存在しないところがある点に注意してください"
      ],
      "metadata": {
        "id": "tGPa1uU6Qs2c"
      }
    },
    {
      "cell_type": "code",
      "source": [
        "todohuken_data = [{\"コード\": 24, \"都道府県\": \"三重\", \"県庁所在地\": \"津\"},\n",
        "                  {\"コード\": 25, \"都道府県\": \"滋賀\", \"県庁所在地\": \"大津\"},\n",
        "                  {\"コード\": 31, \"都道府県\": \"鳥取\"},\n",
        "                  {\"コード\": 32, \"都道府県\": \"島根\", \"県庁所在地\": \"松江\"},\n",
        "                  {\"コード\": 37, \"都道府県\": \"香川\", \"県庁所在地\": \"高松\"},\n",
        "                  {\"コード\": 38, \"都道府県\": \"愛媛\", \"県庁所在地\": \"松山\"},]"
      ],
      "metadata": {
        "id": "8ZdyRWbERGAY"
      },
      "execution_count": null,
      "outputs": []
    },
    {
      "cell_type": "markdown",
      "source": [
        "＜出力結果例＞  \n",
        "``` py\n",
        "[24, 25, 31, 32, 37, 38]  \n",
        "['三重', '滋賀', '鳥取', '島根', '香川', '愛媛']\n",
        "['津', '大津', None, '松江', '高松', '松山']\n",
        "```"
      ],
      "metadata": {
        "id": "dQ2n3OMSUXh2"
      }
    },
    {
      "cell_type": "code",
      "source": [
        "# 入力用\n",
        "todohuken_data = [{\"コード\": 24, \"都道府県\": \"三重\", \"県庁所在地\": \"津\"},\n",
        "                  {\"コード\": 25, \"都道府県\": \"滋賀\", \"県庁所在地\": \"大津\"},\n",
        "                  {\"コード\": 31, \"都道府県\": \"鳥取\"},\n",
        "                  {\"コード\": 32, \"都道府県\": \"島根\", \"県庁所在地\": \"松江\"},\n",
        "                  {\"コード\": 37, \"都道府県\": \"香川\", \"県庁所在地\": \"高松\"},\n",
        "                  {\"コード\": 38, \"都道府県\": \"愛媛\", \"県庁所在地\": \"松山\"},]\n",
        "codo_list=[]\n",
        "kenmei_list=[]\n",
        "kentyou_list=[]\n",
        "for i in range(6):\n",
        "  x=todohuken_data[i][\"コード\"]\n",
        "  codo_list.append(x)\n",
        "  y=todohuken_data[i][\"都道府県\"]\n",
        "  kenmei_list.append(y)\n",
        "  z=todohuken_data[i]\n",
        "  z1=z.get(\"県庁所在地\")\n",
        "  kentyou_list.append(z1)\n",
        "\n",
        "print(codo_list)\n",
        "print(kenmei_list)\n",
        "print(kentyou_list)"
      ],
      "metadata": {
        "id": "duwCERgQUify",
        "colab": {
          "base_uri": "https://localhost:8080/"
        },
        "outputId": "2101c8ba-c1dc-4c88-ade1-de09030774da"
      },
      "execution_count": null,
      "outputs": [
        {
          "output_type": "stream",
          "name": "stdout",
          "text": [
            "[24, 25, 31, 32, 37, 38]\n",
            "['三重', '滋賀', '鳥取', '島根', '香川', '愛媛']\n",
            "['津', '大津', None, '松江', '高松', '松山']\n"
          ]
        }
      ]
    },
    {
      "cell_type": "markdown",
      "source": [
        "## 課題3"
      ],
      "metadata": {
        "id": "1S8kadYgq_gV"
      }
    },
    {
      "cell_type": "markdown",
      "source": [
        "ある文字列が与えられた場合、文字列内の各文字の出現回数をディクショナリの形で返してください\n",
        "\n",
        "大文字と小文字は区別してください  \n",
        "また、出力時はアルファベット順にソートした状態にしてください"
      ],
      "metadata": {
        "id": "OdSKG7k9rA7V"
      }
    },
    {
      "cell_type": "markdown",
      "source": [
        "＜実行結果例＞　「Hello, World!」の各文字のカウント\n",
        "``` py\n",
        "{'H': 1, 'W': 1, 'd': 1, 'e': 1, 'l': 3, 'o': 2, 'r': 1}\n",
        "```"
      ],
      "metadata": {
        "id": "p0suMufQuEzI"
      }
    },
    {
      "cell_type": "code",
      "source": [
        "# 入力用\n",
        "\n",
        "string = \"何か\"\n",
        "\n",
        "# アルファベット以外の文字を削除 最初に実行してください\n",
        "string = ''.join(c for c in string if c.isalpha())\n",
        "print(string)"
      ],
      "metadata": {
        "id": "bHv50oDhrdzN",
        "colab": {
          "base_uri": "https://localhost:8080/"
        },
        "outputId": "ddf43c8b-5f4c-4a94-e4ca-f6e0bbb46afa"
      },
      "execution_count": null,
      "outputs": [
        {
          "output_type": "stream",
          "name": "stdout",
          "text": [
            "何か\n"
          ]
        }
      ]
    },
    {
      "cell_type": "code",
      "source": [
        "Moji=\"Hello,World!\"\n",
        "print(Moji)\n",
        "moji_list=[\"H\",\"W\",\"d\",\"e\",\"l\",\"o\",\"r\"]\n",
        "\n",
        "STRING={}\n",
        "for i in moji_list:\n",
        "  STRING[i]=Moji.count(i)\n",
        "\n",
        "print(STRING)"
      ],
      "metadata": {
        "colab": {
          "base_uri": "https://localhost:8080/"
        },
        "id": "VAtgAVGOoEBL",
        "outputId": "96f41289-53a1-4138-b053-8c193d215f25"
      },
      "execution_count": null,
      "outputs": [
        {
          "output_type": "stream",
          "name": "stdout",
          "text": [
            "Hello,World!\n",
            "{'H': 1, 'W': 1, 'd': 1, 'e': 1, 'l': 3, 'o': 2, 'r': 1}\n"
          ]
        }
      ]
    },
    {
      "cell_type": "markdown",
      "source": [
        "## 課題4"
      ],
      "metadata": {
        "id": "W573lh39MOlj"
      }
    },
    {
      "cell_type": "markdown",
      "source": [
        "ある大学の名前と年齢が、次のような形式で格納されたディクショナリ `university_dic` があります。"
      ],
      "metadata": {
        "id": "sSIMKY-aNcIx"
      }
    },
    {
      "cell_type": "code",
      "source": [
        "university_dic = {\n",
        "    \"Chitose\" : 25,\n",
        "    \"Hokudai\" : 105,\n",
        "    \"Muroran\" : 74,\n",
        "    \"Hakodate\": 23,\n",
        "}"
      ],
      "metadata": {
        "id": "v-wGyWuKK3wl"
      },
      "execution_count": null,
      "outputs": []
    },
    {
      "cell_type": "markdown",
      "source": [
        "このリストを、年齢順にソートして、新たなディクショナリとして出力してください"
      ],
      "metadata": {
        "id": "XIxDf9QgO1iH"
      }
    },
    {
      "cell_type": "markdown",
      "source": [
        "＜実行結果＞  \n",
        "``` py\n",
        "{'Hakodate': 23, 'Chitose': 25, 'Muroran': 74, 'Hokudai': 105}\n",
        "```"
      ],
      "metadata": {
        "id": "0Z2-_1dAQENU"
      }
    },
    {
      "cell_type": "code",
      "source": [
        "# 入力用"
      ],
      "metadata": {
        "id": "ficNVfkgR5Kv"
      },
      "execution_count": 79,
      "outputs": []
    },
    {
      "cell_type": "code",
      "source": [
        "d = {\"Chitose\" : 25 , \"Hokudai\" : 105 , \"Muroran\" : 74 , \"Hakodate\": 23}\n",
        "print(d.values())\n",
        "bango_list=[23,25,74,105]"
      ],
      "metadata": {
        "colab": {
          "base_uri": "https://localhost:8080/"
        },
        "id": "bWRYsrh1dyVc",
        "outputId": "25b4935a-d857-4c2e-e105-4df14e0a249b"
      },
      "execution_count": null,
      "outputs": [
        {
          "output_type": "stream",
          "name": "stdout",
          "text": [
            "dict_values([25, 105, 74, 23])\n"
          ]
        }
      ]
    },
    {
      "cell_type": "code",
      "source": [
        "gakka = {\"Ouka\":75 , \"Denshi\":99 , \"Josisu\":94}  #ディクショナリの作成\n",
        "\n",
        "list_gakka = list(gakka)  # ディクショナリgakkaのキーをリストに変換\n",
        "list_ninzu = list(gakka.values())  "
      ],
      "metadata": {
        "colab": {
          "base_uri": "https://localhost:8080/",
          "height": 227
        },
        "id": "7mdNaBwwBTU5",
        "outputId": "d887fc5a-b57f-45c9-e98b-72f36da2bc28"
      },
      "execution_count": 80,
      "outputs": [
        {
          "output_type": "error",
          "ename": "TypeError",
          "evalue": "ignored",
          "traceback": [
            "\u001b[0;31m---------------------------------------------------------------------------\u001b[0m",
            "\u001b[0;31mTypeError\u001b[0m                                 Traceback (most recent call last)",
            "\u001b[0;32m<ipython-input-80-0eeddf2fbf48>\u001b[0m in \u001b[0;36m<cell line: 3>\u001b[0;34m()\u001b[0m\n\u001b[1;32m      1\u001b[0m \u001b[0mgakka\u001b[0m \u001b[0;34m=\u001b[0m \u001b[0;34m{\u001b[0m\u001b[0;34m\"Ouka\"\u001b[0m\u001b[0;34m:\u001b[0m\u001b[0;36m75\u001b[0m \u001b[0;34m,\u001b[0m \u001b[0;34m\"Denshi\"\u001b[0m\u001b[0;34m:\u001b[0m\u001b[0;36m99\u001b[0m \u001b[0;34m,\u001b[0m \u001b[0;34m\"Josisu\"\u001b[0m\u001b[0;34m:\u001b[0m\u001b[0;36m94\u001b[0m\u001b[0;34m}\u001b[0m  \u001b[0;31m#ディクショナリの作成\u001b[0m\u001b[0;34m\u001b[0m\u001b[0;34m\u001b[0m\u001b[0m\n\u001b[1;32m      2\u001b[0m \u001b[0;34m\u001b[0m\u001b[0m\n\u001b[0;32m----> 3\u001b[0;31m \u001b[0mlist_gakka\u001b[0m \u001b[0;34m=\u001b[0m \u001b[0mlist\u001b[0m\u001b[0;34m(\u001b[0m\u001b[0mgakka\u001b[0m\u001b[0;34m)\u001b[0m  \u001b[0;31m# ディクショナリgakkaのキーをリストに変換\u001b[0m\u001b[0;34m\u001b[0m\u001b[0;34m\u001b[0m\u001b[0m\n\u001b[0m\u001b[1;32m      4\u001b[0m \u001b[0mlist_ninzu\u001b[0m \u001b[0;34m=\u001b[0m \u001b[0mlist\u001b[0m\u001b[0;34m(\u001b[0m\u001b[0mgakka\u001b[0m\u001b[0;34m.\u001b[0m\u001b[0mvalues\u001b[0m\u001b[0;34m(\u001b[0m\u001b[0;34m)\u001b[0m\u001b[0;34m)\u001b[0m\u001b[0;34m\u001b[0m\u001b[0;34m\u001b[0m\u001b[0m\n",
            "\u001b[0;31mTypeError\u001b[0m: 'list' object is not callable"
          ]
        }
      ]
    },
    {
      "cell_type": "code",
      "source": [
        "university_dic = {\n",
        "    \"Chitose\" : 25,\n",
        "    \"Hokudai\" : 105,\n",
        "    \"Muroran\" : 74,\n",
        "    \"Hakodate\": 23,\n",
        "}\n",
        "nensu=[23,25,74,105]\n",
        "for x in nensu:\n",
        "  "
      ],
      "metadata": {
        "colab": {
          "base_uri": "https://localhost:8080/"
        },
        "id": "eKfRcjLzok_X",
        "outputId": "631e5bbf-8cdb-43d5-e556-a83e41b5c1ad"
      },
      "execution_count": null,
      "outputs": [
        {
          "output_type": "stream",
          "name": "stdout",
          "text": [
            "[]\n"
          ]
        }
      ]
    },
    {
      "cell_type": "markdown",
      "source": [
        "## 課題5"
      ],
      "metadata": {
        "id": "QijnXk7UWAVC"
      }
    },
    {
      "cell_type": "markdown",
      "source": [
        "**FizzBuzz（フィズ・バズ）問題**という問題について解いていきます。\n",
        "\n",
        "もともとは、英語圏で長距離ドライブ中や飲み会の時に行われる言葉遊びです。"
      ],
      "metadata": {
        "id": "m7F47Q1mWCA6"
      }
    },
    {
      "cell_type": "markdown",
      "source": [
        "以下のような問題になります。\n",
        "\n",
        "1～Nまでの整数を順に出力しなさい。ただし、例外として以下のルールを守ること。\n",
        "\n",
        "* 3で割り切れる数字の場合はFizzを出力\n",
        "* 5で割り切れる数字の場合はBuzzを出力\n",
        "* 7で割り切れる数字の場合はJazzを出力\n",
        "* 複数条件が当てはまる場合は組み合わせて出力（ \"FizzBuzz\", \"FizzJazz\", \"BuzzJazz\" など）"
      ],
      "metadata": {
        "id": "fArw0VcNWgwZ"
      }
    },
    {
      "cell_type": "markdown",
      "source": [
        "ここでは N=100として、まずは一つのリストに  \n",
        "\"Fizz\" か \"Buzz\" か \"Jazz\" か \"組み合わさったもの\" か \"others\" を格納してください。\n",
        "\n",
        "その後、それぞれの要素の数をカウントし、ディクショナリの形で出力してください。"
      ],
      "metadata": {
        "id": "SYqkpYstWm7Z"
      }
    },
    {
      "cell_type": "markdown",
      "source": [
        "＜実行結果例＞  \n",
        "``` py\n",
        "{'Fizz': 23, 'Buzz': 12, 'Jazz': 8, 'FizzBuzz': 6, 'FizzJazz': 4, 'BuzzJazz': 2, 'others': 45}\n",
        "```"
      ],
      "metadata": {
        "id": "OqLuJTcWYzFt"
      }
    },
    {
      "cell_type": "code",
      "source": [
        "# 入力用\n",
        "N=100\n",
        "result=[]\n",
        "for i in range(1,N+1):\n",
        "  if i%15 == 0:\n",
        "    x='FizzBuzz'\n",
        "\n",
        "  elif i%35 == 0:\n",
        "    x='BuzzJazz'\n",
        "\n",
        "  elif i%21 == 0:\n",
        "    x='FizzJazz'\n",
        "\n",
        "  elif i%3 == 0:\n",
        "    x='Fizz'\n",
        "  \n",
        "  elif i%5 == 0:\n",
        "    x='Buzz'\n",
        "\n",
        "  elif i%7 == 0:\n",
        "    x='Jazz'\n",
        "\n",
        "  else:\n",
        "    x='others'\n",
        "\n",
        "  result.append(x)\n",
        "\n",
        "Koho=['Fizz','Buzz','Jazz','FizzBuzz','BuzzJazz','FizzJazz','others']\n",
        "\n",
        "RESULT_dic={}\n",
        "for y in Koho:\n",
        "  z=result.count(y)\n",
        "  RESULT_dic[y]=z\n",
        "print(RESULT_dic)"
      ],
      "metadata": {
        "id": "BLYbI0E48o2G",
        "colab": {
          "base_uri": "https://localhost:8080/"
        },
        "outputId": "091cab58-cd2c-4b1b-999d-c34b1c3318fb"
      },
      "execution_count": null,
      "outputs": [
        {
          "output_type": "stream",
          "name": "stdout",
          "text": [
            "{'Fizz': 23, 'Buzz': 12, 'Jazz': 8, 'FizzBuzz': 6, 'BuzzJazz': 2, 'FizzJazz': 4, 'others': 45}\n"
          ]
        }
      ]
    }
  ]
}