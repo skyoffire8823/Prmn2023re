{
  "nbformat": 4,
  "nbformat_minor": 0,
  "metadata": {
    "colab": {
      "provenance": []
    },
    "kernelspec": {
      "name": "python3",
      "display_name": "Python 3"
    },
    "language_info": {
      "name": "python"
    }
  },
  "cells": [
    {
      "cell_type": "markdown",
      "metadata": {
        "id": "view-in-github"
      },
      "source": [
        "<a href=\"https://colab.research.google.com/github/kiryu-3/Prmn2023/blob/main/Python/Python_Basic/question/PythonBasic_1_Question.ipynb\" target=\"_parent\"><img src=\"https://colab.research.google.com/assets/colab-badge.svg\" alt=\"Open In Colab\"/></a>"
      ]
    },
    {
      "cell_type": "markdown",
      "source": [
        "# 第1章 課題"
      ],
      "metadata": {
        "id": "kWc75ZFVvner"
      }
    },
    {
      "cell_type": "markdown",
      "source": [
        "## 課題1"
      ],
      "metadata": {
        "id": "bruivG-4v2Cc"
      }
    },
    {
      "cell_type": "markdown",
      "source": [
        "print関数を使って自分の情報を表示させる\n",
        "\n",
        "＜実行例＞ `b1998040 Chitose Taro`\n",
        "\n"
      ],
      "metadata": {
        "id": "OJ1NflXMv3mo"
      }
    },
    {
      "cell_type": "code",
      "execution_count": 1,
      "metadata": {
        "id": "e-ns59REvalm",
        "colab": {
          "base_uri": "https://localhost:8080/"
        },
        "outputId": "f4ac7094-bcfc-4e10-d404-5aa8d9c55352"
      },
      "outputs": [
        {
          "output_type": "stream",
          "name": "stdout",
          "text": [
            "b2221940 Chitose Taro\n"
          ]
        }
      ],
      "source": [
        "# 入力用\n",
        "print('b2221940 Chitose Taro')"
      ]
    },
    {
      "cell_type": "markdown",
      "source": [
        "## 課題2"
      ],
      "metadata": {
        "id": "Y-1UjAcTwPkf"
      }
    },
    {
      "cell_type": "markdown",
      "source": [
        "int型変数`student_number`に学籍番号の数値の部分を代入し、  \n",
        "自分の情報を表示させる\n",
        "\n",
        "＜実行例＞ `b1998040 Chitose Taro`\n",
        "\n",
        "＜hint＞ 3通りあるはずです。"
      ],
      "metadata": {
        "id": "HvO1SGM4wRPg"
      }
    },
    {
      "cell_type": "code",
      "source": [
        "# 入力用\n",
        "student=2221940\n",
        "print(f'b{student} Chitose Taro')\n",
        "print('b'+ str(student)+' Chitose Taro')\n",
        "print(\"b{} Chitose Taro\".format(student))"
      ],
      "metadata": {
        "id": "kXTNAYHLw1Mh",
        "colab": {
          "base_uri": "https://localhost:8080/"
        },
        "outputId": "f1b004a1-4455-4c58-933c-23966620f5b8"
      },
      "execution_count": 5,
      "outputs": [
        {
          "output_type": "stream",
          "name": "stdout",
          "text": [
            "b2221940 Chitose Taro\n",
            "b2221940 Chitose Taro\n",
            "b2221940 Chitose Taro\n"
          ]
        }
      ]
    },
    {
      "cell_type": "markdown",
      "source": [
        "## 課題3"
      ],
      "metadata": {
        "id": "9Tl25UnMw-Fd"
      }
    },
    {
      "cell_type": "markdown",
      "source": [
        "10から2800まで、10飛ばしの数を乱数で生成し、  \n",
        "2220000に足して、名前とともに表示させる\n",
        "\n",
        "＜実行例＞ `b2220010 Chitose Taro`"
      ],
      "metadata": {
        "id": "2WPpYUOLw_5H"
      }
    },
    {
      "cell_type": "code",
      "source": [
        "# 入力用\n",
        "import random\n",
        "student_number=2220000+random.randint(1,280)*10\n",
        "print(f\"{student_number} Chitose Taro\")"
      ],
      "metadata": {
        "id": "8hxJMAqQ7uQy",
        "colab": {
          "base_uri": "https://localhost:8080/"
        },
        "outputId": "3da5ef33-d1d5-4ac8-9cb7-d4757706fa44"
      },
      "execution_count": 7,
      "outputs": [
        {
          "output_type": "stream",
          "name": "stdout",
          "text": [
            "2222450 Chitose Taro\n"
          ]
        }
      ]
    }
  ]
}